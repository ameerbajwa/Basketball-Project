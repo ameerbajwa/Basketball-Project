{
 "cells": [
  {
   "cell_type": "code",
   "execution_count": null,
   "metadata": {
    "collapsed": true
   },
   "outputs": [],
   "source": [
    "import numpy as np\n",
    "import pandas as pd\n",
    "import pickle"
   ]
  },
  {
   "cell_type": "markdown",
   "metadata": {},
   "source": [
    "## Cleaning the Scraped NBA Player Data"
   ]
  },
  {
   "cell_type": "code",
   "execution_count": null,
   "metadata": {
    "collapsed": true
   },
   "outputs": [],
   "source": [
    "with open('saved_final_player_info.pickle', 'rb') as handle:\n",
    "    final_player_info = pickle.load(handle)"
   ]
  },
  {
   "cell_type": "code",
   "execution_count": null,
   "metadata": {
    "collapsed": true
   },
   "outputs": [],
   "source": [
    "names = ['position', 'height', 'weight', 'D_of_B', 'Country', 'Exp', 'College', 'Age', 'games_played', \n",
    "         'games_started', 'min_played/G', 'fg_made/G', 'fg_att/G', 'fg%', '3PM/G', '3PA/G', '3P%', '2PM/G', \n",
    "         '2PA/G', '2P%', 'eFG%', 'FTM/G', 'FTA/G', 'FT%','ORB/G', 'DRB/G', 'TRB/G', 'AST/G', 'STL/G', 'BLK/G', \n",
    "         'TOV/G', 'PF/G', 'PTS/G', 'Age2', 'games_played2', 'min_played_total', 'PER', 'TS%', '3PAr', 'FTr', \n",
    "         'ORB%', 'DRB%', 'TRB%', 'AST%', 'STL%', 'BLK%', 'TOV%', 'USG%', 'random1', 'OWS', 'DWS', 'WS', 'WS/48', \n",
    "         'random2', 'OBPM', 'DBPM', 'BPM', 'VORP', 'Age3', 'games_played3', 'min_played_total2', 'FG%2', 'Dist', \n",
    "         '%_shots_2PA', '2PA%_0-3', '2PA%_3-10', '2PA%_10-16', '2PA%_16<3', '3PA%', '%_shots_2PM', '2PM%_0-3', \n",
    "         '2PM%_3-10', '2PM%_10-16', '2PM%_16<3', '3PM%', '%Astd_forFGM', '%_FGA_dunks', 'dunks', '%Astd_for3FGM', \n",
    "         '%_3PA_corner', '3PM%_corner', 'heaves_att', 'heaves_made', 'salary']"
   ]
  },
  {
   "cell_type": "code",
   "execution_count": null,
   "metadata": {},
   "outputs": [],
   "source": [
    "player_df = pd.DataFrame(final_player_info, index=names)\n",
    "player_df_original = player_df.T\n",
    "player_df_original.tail()"
   ]
  },
  {
   "cell_type": "code",
   "execution_count": null,
   "metadata": {
    "collapsed": true
   },
   "outputs": [],
   "source": [
    "# Dropping the two random columns out of the dataframe \n",
    "\n",
    "player_df_original = player_df_original.drop('random1', axis=1)\n",
    "player_df_original = player_df_original.drop('random2', axis=1)"
   ]
  },
  {
   "cell_type": "code",
   "execution_count": null,
   "metadata": {},
   "outputs": [],
   "source": [
    "player_df_original.columns"
   ]
  },
  {
   "cell_type": "code",
   "execution_count": null,
   "metadata": {
    "collapsed": true
   },
   "outputs": [],
   "source": [
    "# Some of the salary information for some of the players are in the age2 and age3 columns because on basketball\n",
    "#   -reference.com, these players didn't have the advanced and/or shooting stats available since those statistics\n",
    "#   weren't a thing during those particular seasons\n",
    "\n",
    "AGE2 = 33\n",
    "AGE3 = 56"
   ]
  },
  {
   "cell_type": "code",
   "execution_count": null,
   "metadata": {
    "collapsed": true
   },
   "outputs": [],
   "source": [
    "for i in range(0,len(player_df_original)):\n",
    "    if '$' in player_df_original.iloc[i,AGE2]:\n",
    "        player_df_original.iloc[i,AGE2], player_df_original.iloc[i,-1] = player_df_original.iloc[i,-1], player_df_original.iloc[i,AGE2]\n",
    "    elif '$' in player_df_original.iloc[i,AGE3]:\n",
    "        player_df_original.iloc[i,AGE3], player_df_original.iloc[i,-1] = player_df_original.iloc[i,-1], player_df_original.iloc[i,AGE3]"
   ]
  },
  {
   "cell_type": "code",
   "execution_count": null,
   "metadata": {
    "collapsed": true
   },
   "outputs": [],
   "source": [
    "# Getting rid of the $ and , signs in the salary column\n",
    "\n",
    "player_df_original['salary'] = list(map(lambda x: ''.join([c for c in x if c not in ('$', ',')]), player_df_original['salary']))"
   ]
  },
  {
   "cell_type": "code",
   "execution_count": null,
   "metadata": {
    "collapsed": true
   },
   "outputs": [],
   "source": [
    "# Getting the team name, season, and player's name into separate columns from the pandas dataframe index\n",
    "\n",
    "player_df_original['Team'] = list(map(lambda x: x[0:3], player_df_original.index))\n",
    "player_df_original['Season'] = list(map(lambda x: int(x[4:8]), player_df_original.index))\n",
    "player_df_original['Name'] = list(map(lambda x: x[9:], player_df_original.index))"
   ]
  },
  {
   "cell_type": "code",
   "execution_count": null,
   "metadata": {
    "collapsed": true
   },
   "outputs": [],
   "source": [
    "# Grabbing the birth year from the day of birth column\n",
    "\n",
    "player_df_original['Birth_Year'] = list(map(lambda x: int(x[-4:]), player_df_original['D_of_B']))"
   ]
  },
  {
   "cell_type": "code",
   "execution_count": null,
   "metadata": {
    "collapsed": true
   },
   "outputs": [],
   "source": [
    "player_df_original['Height'] = 'NA'\n",
    "player_df_original['Weight'] = 'NA'"
   ]
  },
  {
   "cell_type": "code",
   "execution_count": null,
   "metadata": {
    "collapsed": true
   },
   "outputs": [],
   "source": [
    "# Changing the string type weight values to int types and height values to inches\n",
    "\n",
    "for i in range(0,len(player_df_original)):\n",
    "    if player_df_original.iloc[i,2] != '':\n",
    "        player_df_original.iloc[i,87] = int(player_df_original.iloc[i,2])\n",
    "    elif player_df_original.iloc[i,2] == '':\n",
    "        player_df_original.iloc[i,87] = 'NA'\n",
    "        \n",
    "    if player_df_original.iloc[i,1] != '':\n",
    "        dimensions = player_df_original.iloc[i,1].split('-')\n",
    "        player_df_original.iloc[i,86] = int(dimensions[0])*12 + int(dimensions[1])\n",
    "    elif player_df_original.iloc[i,1] == '':\n",
    "        player_df_original.iloc[i,86] = 'NA'"
   ]
  },
  {
   "cell_type": "code",
   "execution_count": null,
   "metadata": {
    "collapsed": true
   },
   "outputs": [],
   "source": [
    "player_df_original['Position'] = ''"
   ]
  },
  {
   "cell_type": "code",
   "execution_count": null,
   "metadata": {
    "collapsed": true
   },
   "outputs": [],
   "source": [
    "# Changing the position values to numbers corresponding to the position\n",
    "\n",
    "positional_dict = {'PG':1, 'SG':2, 'G':12, 'SF':3, 'PF':4, 'F':34, 'C':5, 'G-F':'NA', 'F-G':'NA', 'F-C':'NA', 'C-F':'NA'}\n",
    "\n",
    "for i in range(0,len(player_df_original)):\n",
    "    for position, num in positional_dict.items():\n",
    "        if player_df_original.iloc[i,0] == position:\n",
    "            player_df_original.iloc[i,88] = num"
   ]
  },
  {
   "cell_type": "code",
   "execution_count": null,
   "metadata": {
    "collapsed": true
   },
   "outputs": [],
   "source": [
    "player_df_original['Experience'] = ''"
   ]
  },
  {
   "cell_type": "code",
   "execution_count": null,
   "metadata": {
    "collapsed": true
   },
   "outputs": [],
   "source": [
    "# Changing the rookie status to 0\n",
    "\n",
    "for i in range(0,len(player_df_original)):\n",
    "    if player_df_original.iloc[i,5] != 'R':\n",
    "        player_df_original.iloc[i,89] = int(player_df_original.iloc[i,5])\n",
    "    elif player_df_original.iloc[i,5] == 'R':\n",
    "        player_df_original.iloc[i,89] = 0"
   ]
  },
  {
   "cell_type": "code",
   "execution_count": null,
   "metadata": {
    "collapsed": true
   },
   "outputs": [],
   "source": [
    "# Changing all the statistics from string types to float types \n",
    "\n",
    "for i in range(0,len(player_df_original)):\n",
    "    for j in range(7,80):\n",
    "        if player_df_original.iloc[i,j] == '':\n",
    "            player_df_original.iloc[i,j] = 'NA'\n",
    "        elif player_df_original.iloc[i,j] != 'NA':\n",
    "            player_df_original.iloc[i,j] = float(player_df_original.iloc[i,j])\n"
   ]
  },
  {
   "cell_type": "code",
   "execution_count": null,
   "metadata": {
    "collapsed": true
   },
   "outputs": [],
   "source": [
    "alphabet_dict = {'A':2,'B':2,'C':2,'D':3,'E':3,'F':3,'G':4,'H':4,'I':4,'J':5,'K':5,'L':5,'M':6,'N':6,'O':6,'P':7,\n",
    "                'Q':7,'R':7,'S':7,'T':8,'U':8,'V':8,'W':9,'X':9,'Y':9,'Z':9}\n",
    "\n",
    "player_df_original['Team_Number'] = ''\n",
    "\n",
    "team_name = 82"
   ]
  },
  {
   "cell_type": "code",
   "execution_count": null,
   "metadata": {
    "collapsed": true
   },
   "outputs": [],
   "source": [
    "# Creating a new column called Team_Number to change the abbreviated team names to a corresponding number code\n",
    "\n",
    "for i in range(0,len(player_df_original)):\n",
    "    character_list = [str(alphabet_dict[character]) for character in player_df_original.iloc[i,team_name]]\n",
    "    player_df_original.iloc[i,-1] = int(''.join(character_list))\n"
   ]
  },
  {
   "cell_type": "code",
   "execution_count": null,
   "metadata": {
    "collapsed": true
   },
   "outputs": [],
   "source": [
    "# Convert pandas dataframe back to a dictionary\n",
    "\n",
    "usable_player_dict = player_df_original.T.to_dict()"
   ]
  },
  {
   "cell_type": "code",
   "execution_count": null,
   "metadata": {
    "collapsed": true
   },
   "outputs": [],
   "source": [
    "# Dumping the dictionary into pickle file to use whenever without having to clean the dataframe from before\n",
    "\n",
    "with open('saved_usable_player_info.pickle', 'wb') as handle:\n",
    "    pickle.dump(usable_player_dict, handle, protocol=pickle.HIGHEST_PROTOCOL)"
   ]
  },
  {
   "cell_type": "code",
   "execution_count": null,
   "metadata": {
    "collapsed": true
   },
   "outputs": [],
   "source": [
    "clean_player_df = pd.DataFrame(usable_player_dict)"
   ]
  },
  {
   "cell_type": "code",
   "execution_count": null,
   "metadata": {},
   "outputs": [],
   "source": [
    "clean_player_df = clean_player_df.T\n",
    "clean_player_df.tail()"
   ]
  }
 ],
 "metadata": {
  "kernelspec": {
   "display_name": "Python 3",
   "language": "python",
   "name": "python3"
  },
  "language_info": {
   "codemirror_mode": {
    "name": "ipython",
    "version": 3
   },
   "file_extension": ".py",
   "mimetype": "text/x-python",
   "name": "python",
   "nbconvert_exporter": "python",
   "pygments_lexer": "ipython3",
   "version": "3.6.1"
  }
 },
 "nbformat": 4,
 "nbformat_minor": 2
}
